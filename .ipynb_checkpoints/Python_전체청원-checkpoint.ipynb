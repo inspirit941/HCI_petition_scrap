{
 "cells": [
  {
   "cell_type": "code",
   "execution_count": 154,
   "metadata": {},
   "outputs": [],
   "source": [
    "import requests\n",
    "from bs4 import BeautifulSoup as bs\n",
    "import pandas as pd\n",
    "import numpy as np\n",
    "import re"
   ]
  },
  {
   "cell_type": "code",
   "execution_count": 181,
   "metadata": {},
   "outputs": [],
   "source": [
    "title=[]\n",
    "category=[]\n",
    "start=[]\n",
    "end = []\n",
    "petitioner=[]\n",
    "num = []\n",
    "petition_detail = []\n",
    "link = []\n",
    "answer=[]\n",
    "for i in range(1):\n",
    "    url = \"https://www1.president.go.kr/petitions/96427\"\n",
    "\n",
    "    headers = {\n",
    "        'cache-control': \"no-cache\",\n",
    "        'Postman-Token': \"972d731e-f4f5-4ade-a6b8-9477306d4b47\"\n",
    "        }\n",
    "\n",
    "    response = requests.request(\"GET\", url, headers=headers)\n",
    "    if response.status_code != 200:\n",
    "        print(i+'번째 청원 스크래핑 실패. status code: '+response.status_code)\n",
    "        \n",
    "    html = bs(response.text, 'lxml')\n",
    "    petition = html.find('div', class_='petitionsView_left_pg')\n",
    "    if len(petition.find_all('div',class_='wvcontainer')) !=0:\n",
    "        # 관리자에 의해 비공개된 청원\n",
    "        print(i+'번째 청원 = '+petition.find('div',class_='wvcontainer').find('h3').text)\n",
    "        continue\n",
    "    else:\n",
    "        title.append(petition.find('h3').text)\n",
    "        num.append(petition.find('span',class_='counter').text)\n",
    "\n",
    "        box = petition.find('ul',class_='petitionsView_info_list').find_all('li')\n",
    "        category.append(box[0].text)\n",
    "        start.append(box[1].text)\n",
    "        end.append(box[2].text)\n",
    "        petitioner.append(box[3].text)\n",
    "\n",
    "        petition_detail.append(petition.find_all('div',class_='View_write')[-1].text)\n",
    "        if petition.find('ul', class_='View_write_link').find('a') != None:\n",
    "            link.append(petition.find('ul', class_='View_write_link').find_all('a'))\n",
    "        else:\n",
    "            link.append(None)\n",
    "        if petition.find('div',class_='pr_tk25') == None:\n",
    "            # 답변 없음\n",
    "            answer.append(None)\n",
    "            continue\n",
    "        else:\n",
    "            answer.append(petition.find_all('div',class_='pr_tk25')[-1].find('p').text)"
   ]
  },
  {
   "cell_type": "code",
   "execution_count": 182,
   "metadata": {
    "scrolled": true
   },
   "outputs": [
    {
     "data": {
      "text/plain": [
       "(['국회의원 급여를 최저시급으로 책정해 주세요'],\n",
       " ['카테고리정치개혁'],\n",
       " ['청원시작2018-01-15'],\n",
       " ['청원마감2018-02-14'],\n",
       " ['청원인naver - ***'],\n",
       " ['277,674'],\n",
       " ['\\n\\t\\t\\t\\t\\t\\t\\t\\t\\t\\t최저시급 인상 반대하던 의원들부터 최저시급으로 책정해주시고 최저시급으로 일하는 노동자들처럼 점심식사비도 하루 3,500원으로 지급해주세요\\n\\r\\n나랏일 제대로하고 국민에게 인정 받을때마다 인센티브를 주는 방식으로 바꿔주세요\\n\\r\\n철밥통 그들도 이제는 최저시급을 받아야한다고 생각합니다.\\n\\r\\n젤아까운 세금이 입에 걸레문 국회의원 월급입니다\\t\\t\\t\\t\\t\\t\\t\\t\\t'],\n",
       " [None],\n",
       " ['Q : 안녕하세요. 11시50분 청와대입니다. 국민이 물으면 정부가 답한다, 오늘도 국민청원 답변을 전해드리겠습니다. 오늘 답변드릴 청원은 ‘국회의원 급여를 최저시급으로 책정해달라’는 청원과 ‘포털 네이버에 대한 수사 촉구’ 청원입니다. 미리 양해를 구하는데 이 내용은 삼권 분립에 따라 청와대가 관여하기 어렵거나, 이미 수사중인 사안에 대한 청원입니다. 이 때문에 담당 부처나 수석실 대신 청원 책임자인 뉴미디어비서관이 답변자로 나와주셨습니다.\\n\\nA : 안녕하세요. 뉴미디어비서관입니다. 아시다시피 청와대 국민청원은 디지털 시대 국민과 직접 소통하기 위해 만들어졌습니다. 저는 디지털 소통 책임자로서 오늘 답변을 드립니다.\\n\\nQ : 먼저 국회의원 최저시급 청원입니다. ‘최저시급 인상 반대하던 의원들부터 최저시급으로 책정해주고, 최저시급 노동자처럼 점심 식사비도 하루 3,500원으로 해달라, 나랏일 제대로 하고 국민에게 인정받을 때 마다 인센티브 주는 방식으로 해달라, 제일 아까운 세금이 거친 말 하는 국회의원 월급이다’, 이런 내용입니다. 총 27만7674명이 참여, 2월15일에 마감됐습니다.\\n\\nA : 청원에 참여해주신 국민들의 목소리, 이번에도 겸허하게 듣겠습니다. 그런데 삼권분립 원칙에 따라 청와대가 국회의원 월급을 결정할 수 없다는 점은 국민들도 잘 아실 것으로 보입니다. 청와대가 해결하지 못할 것을 알면서도 의견을 모아주신 것이 국민들의 뜻, 민심입니다. 이 부분은 정부와 국회 모두 잘 이해하고 있다고 봅니다.\\n\\nQ : 이번 청원에 담긴 뜻은 우선 최저임금 인상에 반대하지 말고 최저임금 현실화를 지지해달라는 주문으로 보입니다. 저임금 문제를 해결하는데 국회가 앞장서달라는 요구입니다.\\n\\nA : 우리나라 저임금 노동자 비율은 OECD 국가 중 4위, 국민의 23.5%에 달합니다. 노동자 네 명 중 한 명이 100만원 중반대 월급으로 살아가갑니다. ‘삶 다운 삶’을 위한 최소한의 소득은 국민 개인의 차원을 넘어 국가 경제와 사회 안전의 측면에서도 중요합니다.\\n\\nQ : 이번 청원은 소득주도 성장의 필요성을 다시 한 번 확인하는 계기가 되었다고 보입니다. 최저임금 인상이 원활하게 진행되도록 정부도 최선을 다하고 있습니다. 그래도 국회의원 월급은 정부가 결정할 일이 아니죠?\\n\\nA : 국회의원 급여와 수당은 ‘국회의원 수당 등에 관한 법률’과 ‘국회의원 수당 등에 관한 규칙’으로 결정됩니다. 정부가 관여할 수 없는 입법부의 권한입니다. 법에 따르면 ‘국회의원의 수당은 매월 20일에 지급한다‘고 되어 있고, 수당을 조정하고자 할 때에는 법 개정까지 공무원 보수 조정비율에 따라 국회 규칙으로 정할 수 있다고 합니다. 입법활동비, 특별활동비, 입법 및 정책개발비, 여비, 보좌직원 보수 등이 모두 법에 규정되어 있습니다.\\n\\nQ : 선거 때에는 국회의원들이 받는 세비를 삭감하겠다는 이야기도 나오고, 세계 각국과 비교해서 어떻다더라는 이야기도 나옵니다. 또 국회의원 월급이 적어서는 안된다는 주장도 있습니다. 월급 걱정 없는 부자들이 아니라 생활인으로서 국민을 위해 봉사하는 의원들에게도 적절한 임금이 필요하니까요.\\n\\nA : 입법부에서 스스로 월급을 어떻게 조정할 것인지는 현행법상 입법부의 몫입니다. 정부가 더 드릴 말씀이 없다는 점, 양해 부탁드립니다. 국회에서도 이번 청원을 계기로 국민들의 신뢰를 얻기 위해 더 노력할 것으로 기대합니다.\\n\\nQ : 청원자들께서 답변에 만족하지 못하실 수 있습니다. 다만 오늘 한 신문 보도에 따르면, 이번 청원을 계기로 지난 3일 국회의원 최저시급 문제에 대해 ’숙의형 시민토론‘이 진행됐습니다. 국가에 봉사하는 자리이기 때문에 청원에 찬성한다는 의견과 오히려 부정부패와 비리가 늘어날 수 있기 때문에 반대한다는 의견 등 토론이 뜨거웠고, 정치개혁까지 논의했다고 합니다.\\n\\nA : 이번 청원이 시민들의 숙의와 참여로 이어졌다는 점에서 감사드립니다. 청원을 계기로 다양한 이슈에 대한 사회적 논의가 활발해지고 있습니다. 저희도 최선을 다하겠습니다.\\n\\nQ : 이제 두 번째 청원 답변 듣겠습니다. 포털 네이버의 댓글에 비정상적인 댓글들이 문제다, 사람이 댓글을 올리는게 아니라 매크로라고 하는 자동 프로그램 등을 쓰는 것으로 의심된다, 이 부분에 대한 수사가 필요하다는 청원입니다. 이 청원은 21만2992명이 참여해주셨습니다.\\n\\nA : 네이버 수사 청원이 시작된 것은 1월 18일입니다. 당시 청원에 참여한 분들을 비롯해 네이버 댓글이 좀 이상하다고 느꼈던 분들이 있었던 것 같은데 네이버도 고민한 것 같습니다. 네이버는 청원이 들어온 다음날인 19일 댓글 의혹과 관련, 경찰에 수사를 의뢰했습니다.\\n\\nQ : 네이버도 직접 해명하는 것 보다 객관적 수사를 자처하고 이용자 신뢰를 회복하는 방안을 택한 것으로 보입니다.\\n\\nA : 현재 경찰에서 한 달 넘게 관련 수사를 진행하고 있습니다. 청원하신 분들도 이해하시겠지만 수사 중인 사안에 대해 정부가 언급하는 것은 적절하지 않습니다. 다만 국민들이 가장 많이 이용하는 국내 대표 포털에서 댓글 조작이 일어나지 않도록 해달라, 문제가 있다면 밝혀달라는 국민의 목소리를 수사팀도 알고 있을 것입니다.\\n\\nQ : 과거 댓글부대 등이 포털 등에서 활동하면서 문제를 일으킨 것도 수사 결과 차례로 밝혀졌습니다. 사실 그동안 댓글이 조금 이상하다는 느낌을 받은 분들이 많았기 때문에 청원 참여자가 20만명을 넘긴 것인데, 이번에 제대로 밝혀질 수 있기를 기대합니다.\\n\\nA : 20만명이 넘는 국민들이 의구심을 갖고 있고, 회사가 수사까지 의뢰한 상황이라면 수사기관이 신속하고 철저하게 진실을 밝히는 것이 중요해 보입니다. 정부도 민간 기업도 국민의 신뢰, 이용자의 신뢰가 가장 중요합니다. 네이버는 이번 수사와 별개로 댓글 정책 투명성을 높이기 위해 댓글을 개편한다고 밝혔습니다. 네이버는 11일까지 ‘댓글정책 이용자 패널’을 모집한다는데, 국민과 함께 문제를 논의할 것으로 보입니다. 현재 수사가 진행되고 있는 것도, 네이버가 댓글 정책 개선 방안을 고민하는 것도 국민들의 관심이 만들어낸 변화입니다. 답변은 부족했지만, 청원을 통해서 이같은 관심 보여주신 점, 다시 한 번 감사드립니다.\\r\\n\\xa0'])"
      ]
     },
     "execution_count": 182,
     "metadata": {},
     "output_type": "execute_result"
    }
   ],
   "source": [
    "title, category, start, end, petitioner, num, petition_detail, link, answer"
   ]
  },
  {
   "cell_type": "code",
   "execution_count": 183,
   "metadata": {},
   "outputs": [],
   "source": [
    "result = pd.DataFrame({'title':title, 'category': category, 'start':start, 'end':end, 'petitioner':petitioner,\n",
    "             'num':num, 'petition_d':petition_detail, 'link':link, 'answer':answer})"
   ]
  },
  {
   "cell_type": "code",
   "execution_count": 184,
   "metadata": {},
   "outputs": [],
   "source": [
    "result['category'] = result.category.map(lambda x: x.replace('카테고리',\"\"))\n",
    "result['start'] = result.start.map(lambda x: x.replace('청원시작',\"\"))\n",
    "result['end'] = result.end.map(lambda x: x.replace('청원마감',\"\"))\n",
    "result['petitioner']= result.petitioner.map(lambda x: x.replace('청원인',\"\"))\n",
    "\n",
    "\n",
    "result['num'] = result.num.map(lambda x: x.replace(',',\"\")).astype(int)\n",
    "\n",
    "result['start'] = pd.to_datetime(result.start)\n",
    "result['end'] = pd.to_datetime(result.end)"
   ]
  },
  {
   "cell_type": "code",
   "execution_count": 185,
   "metadata": {},
   "outputs": [
    {
     "data": {
      "text/html": [
       "<div>\n",
       "<style scoped>\n",
       "    .dataframe tbody tr th:only-of-type {\n",
       "        vertical-align: middle;\n",
       "    }\n",
       "\n",
       "    .dataframe tbody tr th {\n",
       "        vertical-align: top;\n",
       "    }\n",
       "\n",
       "    .dataframe thead th {\n",
       "        text-align: right;\n",
       "    }\n",
       "</style>\n",
       "<table border=\"1\" class=\"dataframe\">\n",
       "  <thead>\n",
       "    <tr style=\"text-align: right;\">\n",
       "      <th></th>\n",
       "      <th>title</th>\n",
       "      <th>category</th>\n",
       "      <th>start</th>\n",
       "      <th>end</th>\n",
       "      <th>petitioner</th>\n",
       "      <th>num</th>\n",
       "      <th>petition_d</th>\n",
       "      <th>link</th>\n",
       "      <th>answer</th>\n",
       "    </tr>\n",
       "  </thead>\n",
       "  <tbody>\n",
       "    <tr>\n",
       "      <th>0</th>\n",
       "      <td>국회의원 급여를 최저시급으로 책정해 주세요</td>\n",
       "      <td>정치개혁</td>\n",
       "      <td>2018-01-15</td>\n",
       "      <td>2018-02-14</td>\n",
       "      <td>naver - ***</td>\n",
       "      <td>277674</td>\n",
       "      <td>최저시급 인상 반대하던 의원들부터 최저시급으로 책정해주시고 최저시급으로 일하는 노동...</td>\n",
       "      <td>None</td>\n",
       "      <td>Q : 안녕하세요. 11시50분 청와대입니다. 국민이 물으면 정부가 답한다, 오늘도...</td>\n",
       "    </tr>\n",
       "  </tbody>\n",
       "</table>\n",
       "</div>"
      ],
      "text/plain": [
       "                     title category      start        end   petitioner  \\\n",
       "0  국회의원 급여를 최저시급으로 책정해 주세요     정치개혁 2018-01-15 2018-02-14  naver - ***   \n",
       "\n",
       "      num                                         petition_d  link  \\\n",
       "0  277674  최저시급 인상 반대하던 의원들부터 최저시급으로 책정해주시고 최저시급으로 일하는 노동...  None   \n",
       "\n",
       "                                              answer  \n",
       "0  Q : 안녕하세요. 11시50분 청와대입니다. 국민이 물으면 정부가 답한다, 오늘도...  "
      ]
     },
     "execution_count": 185,
     "metadata": {},
     "output_type": "execute_result"
    }
   ],
   "source": [
    "result['petition_d'] = result.petition_d.map(lambda x: re.sub(\"\\n|\\t|\\r\",\" \",x).strip())\n",
    "result['answer'] = result.answer.map(lambda x: re.sub(\"\\n|\\t|\\r\",\" \",x).strip())\n",
    "result"
   ]
  },
  {
   "cell_type": "code",
   "execution_count": null,
   "metadata": {},
   "outputs": [],
   "source": []
  },
  {
   "cell_type": "code",
   "execution_count": null,
   "metadata": {},
   "outputs": [],
   "source": []
  },
  {
   "cell_type": "code",
   "execution_count": null,
   "metadata": {},
   "outputs": [],
   "source": []
  },
  {
   "cell_type": "code",
   "execution_count": null,
   "metadata": {},
   "outputs": [],
   "source": []
  },
  {
   "cell_type": "code",
   "execution_count": null,
   "metadata": {},
   "outputs": [],
   "source": []
  },
  {
   "cell_type": "code",
   "execution_count": 177,
   "metadata": {},
   "outputs": [
    {
     "data": {
      "text/plain": [
       "['최저시급 인상 반대하던 의원들부터 최저시급으로 책정해주시고 최저시급으로 일하는 노동자들처럼 점심식사비도 하루 3,500원으로 지급해주세요   나랏일 제대로하고 국민에게 인정 받을때마다 인센티브를 주는 방식으로 바꿔주세요   철밥통 그들도 이제는 최저시급을 받아야한다고 생각합니다.   젤아까운 세금이 입에 걸레문 국회의원 월급입니다']"
      ]
     },
     "execution_count": 177,
     "metadata": {},
     "output_type": "execute_result"
    }
   ],
   "source": [
    "list(result.petition_d)"
   ]
  },
  {
   "cell_type": "code",
   "execution_count": 178,
   "metadata": {},
   "outputs": [
    {
     "data": {
      "text/plain": [
       "[]"
      ]
     },
     "execution_count": 178,
     "metadata": {},
     "output_type": "execute_result"
    }
   ],
   "source": [
    "petition.find_all('div',class_='wvcontainer')"
   ]
  },
  {
   "cell_type": "code",
   "execution_count": 120,
   "metadata": {},
   "outputs": [
    {
     "data": {
      "text/plain": [
       "'니네도 뭣같으면 강남 부동상하라는 시그널인가요'"
      ]
     },
     "execution_count": 120,
     "metadata": {},
     "output_type": "execute_result"
    }
   ],
   "source": [
    "petition.find('h3').text\n",
    "# 청원제목"
   ]
  },
  {
   "cell_type": "code",
   "execution_count": 121,
   "metadata": {},
   "outputs": [
    {
     "data": {
      "text/plain": [
       "'5'"
      ]
     },
     "execution_count": 121,
     "metadata": {},
     "output_type": "execute_result"
    }
   ],
   "source": [
    "petition.find('span',class_='counter').text\n",
    "# 청원인원"
   ]
  },
  {
   "cell_type": "code",
   "execution_count": 122,
   "metadata": {},
   "outputs": [
    {
     "data": {
      "text/plain": [
       "[<li><p>카테고리</p>경제민주화</li>,\n",
       " <li><p>청원시작</p>2018-01-18</li>,\n",
       " <li><p>청원마감</p>2018-02-17</li>,\n",
       " <li style=\"margin-bottom:0\"><p>청원인</p>naver - ***</li>]"
      ]
     },
     "execution_count": 122,
     "metadata": {},
     "output_type": "execute_result"
    }
   ],
   "source": [
    "petition.find('ul',class_='petitionsView_info_list').find_all('li')\n",
    "# [3]\n",
    "# [0].find('p').text"
   ]
  },
  {
   "cell_type": "code",
   "execution_count": 96,
   "metadata": {},
   "outputs": [
    {
     "data": {
      "text/plain": [
       "\"\\n\\t\\t\\t\\t\\t\\t\\t\\t\\t\\t방금 기사에 청와대 강남 집값'괜찮다'라는 기사가 낫던데 한달에 3억 올라도 괜찮다??\\r\\n난 니네 주둥아리 때문에 가상화폐로 70프로를 잃엇는데 이건 이총리 말대로 선의의 피해자를 막기위한 선제적 대응이엿냐??\\r\\n아주 이중성과 내로남불에 정말 역겨운 정부다.\\r\\n38세 투표권자로서 역대 최악의.정부인듯\\n\\r\\n참고로 난 이정부 지지자엿음.\\t\\t\\t\\t\\t\\t\\t\\t\\t\""
      ]
     },
     "execution_count": 96,
     "metadata": {},
     "output_type": "execute_result"
    }
   ],
   "source": [
    "petition.find_all('div',class_='View_write')[-1].text\n",
    "# detail"
   ]
  },
  {
   "cell_type": "code",
   "execution_count": 146,
   "metadata": {},
   "outputs": [
    {
     "data": {
      "text/plain": [
       "[<a href=\"https://youtu.be/dnzODJQBqCA\" target=\"_blank\" title=\"새창 열림\">https://youtu.be/dnzODJQBqCA</a>,\n",
       " <a href=\"https://twitter.com/chogoons/status/953511824938319872\" target=\"_blank\" title=\"새창 열림\">https://twitter.com/chogoons/status/953511824938319872</a>]"
      ]
     },
     "execution_count": 146,
     "metadata": {},
     "output_type": "execute_result"
    }
   ],
   "source": [
    "petition.find('ul',class_='View_write_link').find_all('a')\n",
    "# 청원링크. 링크 주소가 필요하면 https 기준으로 자르면 되고, 아마 필요한 건 첨부링크의 개수니까 len()으로 처리 가능\n",
    "# print(len(petition.find('ul',class_='View_write_link').find_all('a')))"
   ]
  },
  {
   "cell_type": "code",
   "execution_count": 98,
   "metadata": {},
   "outputs": [
    {
     "ename": "IndexError",
     "evalue": "list index out of range",
     "output_type": "error",
     "traceback": [
      "\u001b[0;31m---------------------------------------------------------------------------\u001b[0m",
      "\u001b[0;31mIndexError\u001b[0m                                Traceback (most recent call last)",
      "\u001b[0;32m<ipython-input-98-dd435e863fe7>\u001b[0m in \u001b[0;36m<module>\u001b[0;34m\u001b[0m\n\u001b[0;32m----> 1\u001b[0;31m \u001b[0mpetition\u001b[0m\u001b[0;34m.\u001b[0m\u001b[0mfind_all\u001b[0m\u001b[0;34m(\u001b[0m\u001b[0;34m'div'\u001b[0m\u001b[0;34m,\u001b[0m\u001b[0mclass_\u001b[0m\u001b[0;34m=\u001b[0m\u001b[0;34m'pr_tk25'\u001b[0m\u001b[0;34m)\u001b[0m\u001b[0;34m[\u001b[0m\u001b[0;34m-\u001b[0m\u001b[0;36m1\u001b[0m\u001b[0;34m]\u001b[0m\u001b[0;34m.\u001b[0m\u001b[0mfind\u001b[0m\u001b[0;34m(\u001b[0m\u001b[0;34m'p'\u001b[0m\u001b[0;34m)\u001b[0m\u001b[0;34m.\u001b[0m\u001b[0mtext\u001b[0m\u001b[0;34m\u001b[0m\u001b[0;34m\u001b[0m\u001b[0m\n\u001b[0m\u001b[1;32m      2\u001b[0m \u001b[0;31m# 답변\u001b[0m\u001b[0;34m\u001b[0m\u001b[0;34m\u001b[0m\u001b[0;34m\u001b[0m\u001b[0m\n\u001b[1;32m      3\u001b[0m \u001b[0;31m# 답변이 없으면 list index out of range가 뜬다.\u001b[0m\u001b[0;34m\u001b[0m\u001b[0;34m\u001b[0m\u001b[0;34m\u001b[0m\u001b[0m\n",
      "\u001b[0;31mIndexError\u001b[0m: list index out of range"
     ]
    }
   ],
   "source": [
    "petition.find_all('div',class_='pr_tk25')[-1].find('p').text\n",
    "# 답변\n",
    "# 답변이 없으면 list index out of range가 뜬다."
   ]
  },
  {
   "cell_type": "code",
   "execution_count": 111,
   "metadata": {},
   "outputs": [
    {
     "data": {
      "text/plain": [
       "[None]"
      ]
     },
     "execution_count": 111,
     "metadata": {},
     "output_type": "execute_result"
    }
   ],
   "source": [
    "a = petition.find('div',class_='pr_tk25')\n",
    "test=[]\n",
    "test.append(a)\n",
    "test"
   ]
  },
  {
   "cell_type": "code",
   "execution_count": 113,
   "metadata": {},
   "outputs": [
    {
     "data": {
      "text/plain": [
       "[None, []]"
      ]
     },
     "execution_count": 113,
     "metadata": {},
     "output_type": "execute_result"
    }
   ],
   "source": [
    "test.append([])\n",
    "test"
   ]
  },
  {
   "cell_type": "code",
   "execution_count": null,
   "metadata": {},
   "outputs": [],
   "source": []
  }
 ],
 "metadata": {
  "kernelspec": {
   "display_name": "Python 3",
   "language": "python",
   "name": "python3"
  },
  "language_info": {
   "codemirror_mode": {
    "name": "ipython",
    "version": 3
   },
   "file_extension": ".py",
   "mimetype": "text/x-python",
   "name": "python",
   "nbconvert_exporter": "python",
   "pygments_lexer": "ipython3",
   "version": "3.7.2"
  }
 },
 "nbformat": 4,
 "nbformat_minor": 2
}
